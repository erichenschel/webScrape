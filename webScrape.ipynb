{
 "cells": [
  {
   "cell_type": "code",
   "execution_count": 1,
   "metadata": {},
   "outputs": [],
   "source": [
    "import requests\n",
    "from urllib.request import Request, urlopen\n",
    "from bs4 import BeautifulSoup"
   ]
  },
  {
   "cell_type": "code",
   "execution_count": 2,
   "metadata": {},
   "outputs": [],
   "source": [
    "comp = \"AAPL\""
   ]
  },
  {
   "cell_type": "code",
   "execution_count": 3,
   "metadata": {},
   "outputs": [],
   "source": [
    "url = ('https://finance.yahoo.com/quote/' + comp \n",
    "                        + '?p=' + comp)"
   ]
  },
  {
   "cell_type": "code",
   "execution_count": 4,
   "metadata": {},
   "outputs": [],
   "source": [
    "parse_html_url = urlopen(url)\n",
    "html_page = parse_html_url.read()\n",
    "parse_html_url.close()\n",
    "stock = BeautifulSoup(html_page, \"html.parser\")"
   ]
  },
  {
   "cell_type": "code",
   "execution_count": 5,
   "metadata": {},
   "outputs": [],
   "source": [
    "def volume(s):\n",
    "    val = s.findAll(\"td\", {\"data-test\": \"TD_VOLUME-value\"})\n",
    "    val = str(val).split('</')[0]\n",
    "    val = str(val).split('reactid')[2]\n",
    "    val = str(val).split('>')[1]\n",
    "    val = val.split(',')\n",
    "    val = val[0] + val[1]\n",
    "    val = float(val)\n",
    "    return val"
   ]
  },
  {
   "cell_type": "code",
   "execution_count": 6,
   "metadata": {},
   "outputs": [
    {
     "data": {
      "text/plain": [
       "37189.0"
      ]
     },
     "execution_count": 6,
     "metadata": {},
     "output_type": "execute_result"
    }
   ],
   "source": [
    "# current volume\n",
    "volume(stock)"
   ]
  },
  {
   "cell_type": "code",
   "execution_count": 7,
   "metadata": {},
   "outputs": [],
   "source": [
    "def beta(s):\n",
    "    val = s.findAll(\"td\", {'data-test': 'BETA_5Y-value'})\n",
    "    val = str(val).split('span')[1]\n",
    "    val = str(val).split('>')[1]\n",
    "    val = str(val).split('<')[0]\n",
    "    val = float(val)\n",
    "    return val"
   ]
  },
  {
   "cell_type": "code",
   "execution_count": 8,
   "metadata": {},
   "outputs": [
    {
     "data": {
      "text/plain": [
       "1.17"
      ]
     },
     "execution_count": 8,
     "metadata": {},
     "output_type": "execute_result"
    }
   ],
   "source": [
    "# beta value (volatility)\n",
    "beta(stock)"
   ]
  },
  {
   "cell_type": "code",
   "execution_count": 9,
   "metadata": {},
   "outputs": [],
   "source": [
    "def pe(s):\n",
    "    val = s.findAll(\"td\", {'data-test': 'PE_RATIO-value'})\n",
    "    val = str(val).split('span')[1]\n",
    "    val = str(val).split('>')[1]\n",
    "    val = str(val).split('<')[0]\n",
    "    val = float(val)\n",
    "    return val"
   ]
  },
  {
   "cell_type": "code",
   "execution_count": 10,
   "metadata": {},
   "outputs": [
    {
     "data": {
      "text/plain": [
       "22.76"
      ]
     },
     "execution_count": 10,
     "metadata": {},
     "output_type": "execute_result"
    }
   ],
   "source": [
    "# price / earnings\n",
    "pe(stock)"
   ]
  },
  {
   "cell_type": "code",
   "execution_count": 11,
   "metadata": {},
   "outputs": [],
   "source": [
    "# earnings per share\n",
    "def eps(s):\n",
    "    val = s.findAll(\"td\", {'data-test': 'EPS_RATIO-value'})\n",
    "    val = str(val).split('span')[1]\n",
    "    val = str(val).split('>')[1]\n",
    "    val = str(val).split('<')[0]\n",
    "    val = float(val)\n",
    "    return val\n",
    "\n",
    "# for some reason the wrangled earnings date is \n",
    "# one day before the one listed **fix**\n",
    "def earnings_date(s):\n",
    "    val = s.findAll(\"td\", {'data-test': 'EARNINGS_DATE-value'})\n",
    "    val = str(val).split('span')[1]\n",
    "    val = str(val).split('>')[1]\n",
    "    val = str(val).split('<')[0]\n",
    "    val = str(val)\n",
    "    return val\n",
    "\n",
    "# dividend (in percentage)\n",
    "def div(s):\n",
    "    # dividend in percent\n",
    "    val = s.findAll(\"td\", {\"data-test\": \"DIVIDEND_AND_YIELD-value\"})\n",
    "    val = str(val).split('>')[1]\n",
    "    val = val.split('<')[0]\n",
    "    val = val.split('(')[1]\n",
    "    val = val.split('%')[0]\n",
    "    val = float(val)\n",
    "    return val"
   ]
  },
  {
   "cell_type": "code",
   "execution_count": 12,
   "metadata": {},
   "outputs": [
    {
     "data": {
      "text/plain": [
       "12.6"
      ]
     },
     "metadata": {},
     "output_type": "display_data"
    },
    {
     "data": {
      "text/plain": [
       "'Apr 30, 2020'"
      ]
     },
     "metadata": {},
     "output_type": "display_data"
    },
    {
     "data": {
      "text/plain": [
       "1.08"
      ]
     },
     "metadata": {},
     "output_type": "display_data"
    }
   ],
   "source": [
    "# earnings per share, earnings date, dividend\n",
    "display(eps(stock))\n",
    "display(earnings_date(stock))\n",
    "display(div(stock))"
   ]
  },
  {
   "cell_type": "code",
   "execution_count": null,
   "metadata": {},
   "outputs": [],
   "source": []
  },
  {
   "cell_type": "code",
   "execution_count": null,
   "metadata": {},
   "outputs": [],
   "source": []
  },
  {
   "cell_type": "code",
   "execution_count": null,
   "metadata": {},
   "outputs": [],
   "source": []
  },
  {
   "cell_type": "code",
   "execution_count": null,
   "metadata": {},
   "outputs": [],
   "source": []
  },
  {
   "cell_type": "code",
   "execution_count": null,
   "metadata": {},
   "outputs": [],
   "source": []
  },
  {
   "cell_type": "code",
   "execution_count": null,
   "metadata": {},
   "outputs": [],
   "source": []
  },
  {
   "cell_type": "code",
   "execution_count": null,
   "metadata": {},
   "outputs": [],
   "source": []
  },
  {
   "cell_type": "code",
   "execution_count": null,
   "metadata": {},
   "outputs": [],
   "source": []
  }
 ],
 "metadata": {
  "kernelspec": {
   "display_name": "Python 3",
   "language": "python",
   "name": "python3"
  },
  "language_info": {
   "codemirror_mode": {
    "name": "ipython",
    "version": 3
   },
   "file_extension": ".py",
   "mimetype": "text/x-python",
   "name": "python",
   "nbconvert_exporter": "python",
   "pygments_lexer": "ipython3",
   "version": "3.7.6"
  }
 },
 "nbformat": 4,
 "nbformat_minor": 4
}
